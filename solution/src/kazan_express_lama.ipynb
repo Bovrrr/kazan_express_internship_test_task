{
  "cells": [
    {
      "cell_type": "code",
      "execution_count": 1,
      "metadata": {
        "_cell_guid": "b1076dfc-b9ad-4769-8c92-a6c4dae69d19",
        "_uuid": "8f2839f25d086af736a60e9eeb907d3b93b6e0e5",
        "colab": {
          "base_uri": "https://localhost:8080/"
        },
        "execution": {
          "iopub.execute_input": "2022-04-24T13:58:41.102770Z",
          "iopub.status.busy": "2022-04-24T13:58:41.102486Z",
          "iopub.status.idle": "2022-04-24T13:58:41.115784Z",
          "shell.execute_reply": "2022-04-24T13:58:41.114689Z",
          "shell.execute_reply.started": "2022-04-24T13:58:41.102738Z"
        },
        "id": "KRnjGGq-5Pl6",
        "outputId": "fa67a437-f168-4e51-9e6c-997fc6f0a7da",
        "trusted": true
      },
      "outputs": [
        {
          "name": "stdout",
          "output_type": "stream",
          "text": [
            "./sample_data/anscombe.json\n",
            "./sample_data/README.md\n",
            "./sample_data/california_housing_test.csv\n",
            "./sample_data/mnist_train_small.csv\n",
            "./sample_data/mnist_test.csv\n",
            "./sample_data/california_housing_train.csv\n"
          ]
        }
      ],
      "source": [
        "import os\n",
        "\n",
        "for dirname, _, filenames in os.walk(\"./sample_data/\"):  # /kaggle/input\"):\n",
        "    for filename in filenames:\n",
        "        print(os.path.join(dirname, filename))\n"
      ]
    },
    {
      "cell_type": "code",
      "execution_count": 2,
      "metadata": {
        "execution": {
          "iopub.execute_input": "2022-04-24T13:55:55.383515Z",
          "iopub.status.busy": "2022-04-24T13:55:55.383190Z",
          "iopub.status.idle": "2022-04-24T13:56:06.135964Z",
          "shell.execute_reply": "2022-04-24T13:56:06.134804Z",
          "shell.execute_reply.started": "2022-04-24T13:55:55.383478Z"
        },
        "id": "zCoU6vVO5Pl_",
        "trusted": true
      },
      "outputs": [],
      "source": [
        "%%capture\n",
        "\n",
        "!pip install fastparquet"
      ]
    },
    {
      "cell_type": "code",
      "execution_count": 4,
      "metadata": {
        "id": "KyWplzJXABFM"
      },
      "outputs": [],
      "source": [
        "%%capture\n",
        "\n",
        "#!pip install catboost"
      ]
    },
    {
      "cell_type": "code",
      "execution_count": null,
      "metadata": {
        "execution": {
          "iopub.execute_input": "2022-04-24T13:58:42.967332Z",
          "iopub.status.busy": "2022-04-24T13:58:42.966740Z",
          "iopub.status.idle": "2022-04-24T13:58:42.974292Z",
          "shell.execute_reply": "2022-04-24T13:58:42.973257Z",
          "shell.execute_reply.started": "2022-04-24T13:58:42.967290Z"
        },
        "id": "S7l2pGmG5PmA",
        "trusted": true
      },
      "outputs": [],
      "source": [
        "import pandas as pd\n",
        "from sklearn.metrics import f1_score\n",
        "\n",
        "from constants import *\n"
      ]
    },
    {
      "cell_type": "code",
      "execution_count": null,
      "metadata": {
        "id": "cvSqv_0XG9lI"
      },
      "outputs": [],
      "source": []
    },
    {
      "cell_type": "code",
      "execution_count": null,
      "metadata": {
        "execution": {
          "iopub.execute_input": "2022-04-24T13:58:46.163380Z",
          "iopub.status.busy": "2022-04-24T13:58:46.162768Z",
          "iopub.status.idle": "2022-04-24T13:58:46.995867Z",
          "shell.execute_reply": "2022-04-24T13:58:46.994951Z",
          "shell.execute_reply.started": "2022-04-24T13:58:46.163337Z"
        },
        "id": "-kZpQ4EE5PmA",
        "trusted": true
      },
      "outputs": [],
      "source": [
        "data_path = \"\"\n",
        "\n",
        "\n",
        "cats = pd.read_csv(data_path + \"categories_tree.csv\")\n",
        "tr_data = pd.read_parquet(data_path + \"tr_data.parquet\")\n",
        "te_data = pd.read_parquet(data_path + \"te_data.parquet\")\n",
        "test_data = pd.read_parquet(data_path + \"test_data.parquet\")\n"
      ]
    },
    {
      "cell_type": "code",
      "execution_count": null,
      "metadata": {},
      "outputs": [],
      "source": [
        "tr_y = pd.read_parquet(data_path + \"tr_y.parquet\")\n",
        "te_y = pd.read_parquet(data_path + \"te_y.parquet\")\n",
        "test_data_idx = pd.read_parquet(data_path + \"test.parquet\")[\"id\"]\n"
      ]
    },
    {
      "cell_type": "code",
      "execution_count": null,
      "metadata": {
        "id": "-RhgLJ_W_BY1"
      },
      "outputs": [],
      "source": [
        "# cat_feats = [\"feedback_quantity\"]\n",
        "# text_feats = [\"title\"]\n",
        "#\n",
        "# train_pool = Pool(\n",
        "#     tr_data,\n",
        "#     tr_y,\n",
        "#     cat_features=cat_feats,\n",
        "#     text_features=text_feats,\n",
        "# )\n",
        "# val_pool = Pool(\n",
        "#     te_data,\n",
        "#     te_y,\n",
        "#     cat_features=cat_feats,\n",
        "#     text_features=text_feats,\n",
        "# )\n",
        "# del tr_data, te_data, tr_y, te_y\n",
        "#\n"
      ]
    },
    {
      "cell_type": "code",
      "execution_count": null,
      "metadata": {
        "colab": {
          "base_uri": "https://localhost:8080/"
        },
        "execution": {
          "iopub.execute_input": "2022-04-24T13:59:13.363531Z",
          "iopub.status.busy": "2022-04-24T13:59:13.363191Z",
          "iopub.status.idle": "2022-04-24T13:59:13.436646Z",
          "shell.execute_reply": "2022-04-24T13:59:13.435956Z",
          "shell.execute_reply.started": "2022-04-24T13:59:13.363493Z"
        },
        "id": "DmJsCWZk5PmE",
        "outputId": "0005227f-bd28-4198-92ae-20c7abd93aa3",
        "trusted": true
      },
      "outputs": [
        {
          "name": "stdout",
          "output_type": "stream",
          "text": [
            "Learning rate set to 0.179426\n"
          ]
        }
      ],
      "source": [
        "# cb_model = CatBoostClassifier(\n",
        "#     custom_metric=\"TotalF1:average=Weighted\",\n",
        "#     task_type=\"GPU\",\n",
        "#     devices=\"0\",\n",
        "# )\n",
        "# cb_model.fit(\n",
        "#     train_pool,\n",
        "#     verbose=50,\n",
        "#     eval_set=val_pool,\n",
        "#     use_best_model=True,\n",
        "# )\n"
      ]
    },
    {
      "cell_type": "code",
      "execution_count": null,
      "metadata": {},
      "outputs": [],
      "source": [
        "from sklearn.linear_model import LogisticRegression\n",
        "\n",
        "cb_model = LogisticRegression(\n",
        "    n_jobs=-1,\n",
        ")\n",
        "cb_model.fit(\n",
        "    tr_data,\n",
        "    tr_y,\n",
        ")\n"
      ]
    },
    {
      "cell_type": "code",
      "execution_count": null,
      "metadata": {},
      "outputs": [],
      "source": [
        "f1_score(\n",
        "    cb_model.predict(te_data),\n",
        "    te_y,\n",
        "    average=\"weighted\",\n",
        ")\n"
      ]
    },
    {
      "cell_type": "code",
      "execution_count": null,
      "metadata": {
        "id": "Em2gvybE5PmG"
      },
      "outputs": [],
      "source": [
        "test_cbModel_predict = cb_model.predict(test_data)\n",
        "test_cbModel_predict_df = pd.DataFrame(\n",
        "    {\n",
        "        \"id\": test_data_idx,\n",
        "        \"predicted_category_id\": test_cbModel_predict,\n",
        "    }\n",
        ")\n",
        "test_cbModel_predict_df.to_parquet(\n",
        "    \"result.parquet\",\n",
        "    engine=\"fastparquet\",\n",
        "    index=False,\n",
        ")\n"
      ]
    },
    {
      "cell_type": "code",
      "execution_count": null,
      "metadata": {
        "id": "_uYpHWaq5PmG"
      },
      "outputs": [],
      "source": []
    }
  ],
  "metadata": {
    "accelerator": "GPU",
    "colab": {
      "name": "kazan-express-lama.ipynb",
      "provenance": []
    },
    "kernelspec": {
      "display_name": "Python 3",
      "language": "python",
      "name": "python3"
    },
    "language_info": {
      "codemirror_mode": {
        "name": "ipython",
        "version": 3
      },
      "file_extension": ".py",
      "mimetype": "text/x-python",
      "name": "python",
      "nbconvert_exporter": "python",
      "pygments_lexer": "ipython3",
      "version": "3.7.12"
    }
  },
  "nbformat": 4,
  "nbformat_minor": 0
}
